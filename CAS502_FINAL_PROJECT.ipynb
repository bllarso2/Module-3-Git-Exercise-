{
  "cells": [
    {
      "cell_type": "code",
      "execution_count": null,
      "id": "4d121178-a13b-4140-94a8-8a0a04b0705d",
      "metadata": {
        "id": "4d121178-a13b-4140-94a8-8a0a04b0705d",
        "outputId": "24fe5d95-4af9-4478-89cf-09ec815bd275"
      },
      "outputs": [
        {
          "name": "stdout",
          "output_type": "stream",
          "text": [
            "MAE: 1.2415595039469387\n",
            "MSE: 3.4250369082537997\n",
            "R² Score: 0.9446304584950684\n"
          ]
        }
      ],
      "source": [
        "import pandas as pd\n",
        "from sklearn.model_selection import train_test_split\n",
        "from sklearn.ensemble import RandomForestRegressor\n",
        "from sklearn.metrics import mean_absolute_error, mean_squared_error, r2_score\n",
        "from sklearn.preprocessing import OneHotEncoder, StandardScaler\n",
        "from sklearn.compose import ColumnTransformer\n",
        "from sklearn.pipeline import Pipeline\n",
        "\n",
        "# Load data\n",
        "data = pd.read_csv('/Users/davecooper/Documents/ASU/CAS502/Project/Hospital LOS.csv')\n",
        "\n",
        "# Define target and features\n",
        "X = data.drop(columns=['Stay (in days)', 'patientid'])\n",
        "y = data['Stay (in days)']\n",
        "\n",
        "# Preprocess data\n",
        "categorical_cols = X.select_dtypes(include=['object']).columns\n",
        "numeric_cols = X.select_dtypes(include=['number']).columns\n",
        "\n",
        "preprocessor = ColumnTransformer([\n",
        "    ('cat', OneHotEncoder(handle_unknown='ignore'), categorical_cols),\n",
        "    ('num', StandardScaler(), numeric_cols)\n",
        "])\n",
        "\n",
        "# Split data\n",
        "X_train, X_test, y_train, y_test = train_test_split(X, y, test_size=0.2, random_state=42)\n",
        "\n",
        "# Build pipeline\n",
        "model = Pipeline([\n",
        "    ('preprocessor', preprocessor),\n",
        "    ('regressor', RandomForestRegressor(random_state=42))\n",
        "])\n",
        "\n",
        "# Train model\n",
        "model.fit(X_train, y_train)\n",
        "\n",
        "# Evaluate model\n",
        "y_pred = model.predict(X_test)\n",
        "print(\"MAE:\", mean_absolute_error(y_test, y_pred))\n",
        "print(\"MSE:\", mean_squared_error(y_test, y_pred))\n",
        "print(\"R² Score:\", r2_score(y_test, y_pred))\n"
      ]
    },
    {
      "cell_type": "code",
      "execution_count": null,
      "id": "f9c74aaf-0c45-4767-ae2b-35ce506202c7",
      "metadata": {
        "id": "f9c74aaf-0c45-4767-ae2b-35ce506202c7"
      },
      "outputs": [],
      "source": [
        "new_patient = {\n",
        "    'Available Extra Rooms in Hospital': 3,\n",
        "    'Department': 'gynecology',\n",
        "    'Ward_Facility_Code': 'C',\n",
        "    'doctor_name': 'Dr. Oliva',\n",
        "    'staff_available': 15,\n",
        "    'Age': '31-40',\n",
        "    'gender': 'Female',\n",
        "    'Type of Admission': 'Emergency',\n",
        "    'Severity of Illness': 'Extreme',\n",
        "    'health_conditions': 'diabetes',\n",
        "    'Visitors with Patient': 2,\n",
        "    'Insurance': 'yes'\n",
        "}\n"
      ]
    },
    {
      "cell_type": "code",
      "execution_count": null,
      "id": "3e158005-db98-468f-bb72-0b1ccf5e7900",
      "metadata": {
        "id": "3e158005-db98-468f-bb72-0b1ccf5e7900",
        "outputId": "ded3acd7-b786-46e3-f25e-9f8b1e2ee5cd"
      },
      "outputs": [
        {
          "name": "stdout",
          "output_type": "stream",
          "text": [
            "Predicted Length of Stay (in days): 8.234666666666667\n"
          ]
        }
      ],
      "source": [
        "# Convert new patient data to DataFrame\n",
        "new_patient_df = pd.DataFrame([new_patient])\n",
        "\n",
        "# Predict length of stay\n",
        "predicted_stay = model.predict(new_patient_df)\n",
        "\n",
        "print(\"Predicted Length of Stay (in days):\", predicted_stay[0])\n"
      ]
    },
    {
      "cell_type": "code",
      "execution_count": null,
      "id": "e484bd2a-f94b-4bc6-9cf7-ec6dc4961979",
      "metadata": {
        "id": "e484bd2a-f94b-4bc6-9cf7-ec6dc4961979"
      },
      "outputs": [],
      "source": []
    }
  ],
  "metadata": {
    "kernelspec": {
      "display_name": "Python [conda env:base] *",
      "language": "python",
      "name": "conda-base-py"
    },
    "language_info": {
      "codemirror_mode": {
        "name": "ipython",
        "version": 3
      },
      "file_extension": ".py",
      "mimetype": "text/x-python",
      "name": "python",
      "nbconvert_exporter": "python",
      "pygments_lexer": "ipython3",
      "version": "3.11.9"
    },
    "colab": {
      "provenance": []
    }
  },
  "nbformat": 4,
  "nbformat_minor": 5
}